{
 "cells": [
  {
   "cell_type": "code",
   "execution_count": 1,
   "id": "822d9453-8c9c-4f83-85cd-650dab2e4ac9",
   "metadata": {},
   "outputs": [],
   "source": [
    "import numpy as np\n",
    "import pandas as pd\n",
    "import glob, os, warnings, shutil, subprocess, re, sys\n",
    "from Bio import Seq, SeqIO\n",
    "warnings.filterwarnings('ignore')\n",
    "import matplotlib.pyplot as plt\n",
    "import seaborn as sns\n",
    "import scipy.stats as st\n",
    "import scipy\n",
    "\n",
    "sys.path.append(\"/home/sak0914/TRUST_data_processing/scripts\")\n",
    "from utils import *\n",
    "\n",
    "h37Rv_path = \"./H37Rv\"\n",
    "h37Rv_seq = SeqIO.read(os.path.join(h37Rv_path, \"GCF_000195955.2_ASM19595v2_genomic.gbff\"), \"genbank\")\n",
    "h37Rv_genes = pd.read_csv(os.path.join(h37Rv_path, \"mycobrowser_h37rv_genes_v4.csv\"))\n",
    "\n",
    "h37Rv_regions = pd.read_csv(os.path.join(h37Rv_path, \"mycobrowser_h37rv_v4.csv\"))\n",
    "\n",
    "# these are promoters, transcriptional signals, or RNAs. Exclude these\n",
    "non_coding_regions = h37Rv_regions.query(\"Feature != 'CDS'\").Name.values\n",
    "\n",
    "# if these remain in the dataframe, then there will be multiple entires for a single gene name, which will cause process_intergenic_variant_WHO_catalog_coord to fail\n",
    "h37Rv_regions = h37Rv_regions.query(\"~Feature.str.contains('|'.join(['promoter', 'signal']), case=False)\")\n",
    "assert len(h37Rv_regions) == h37Rv_regions.Name.nunique()\n",
    "\n",
    "h37Rv_coords = pd.read_csv(os.path.join(h37Rv_path, \"h37Rv_coords_to_gene.csv.gz\"), compression='gzip')\n",
    "h37Rv_coords_dict = dict(zip(h37Rv_coords[\"pos\"].values, h37Rv_coords[\"region\"].values))\n",
    "\n",
    "# isolates with matched LR sequencing (including samples from the same patient where only 1 sample had LR done)\n",
    "isolates_with_LR = pd.read_csv(\"./data/TRUST_isolates_long_read_aln.tsv\", sep='\\t', header=None)\n",
    "\n",
    "TRUST_data_dir = \"/home/sak0914/TRUST_data_processing/processed_data\"\n",
    "CNN_results_dir = \"/n/data1/hms/dbmi/farhat/Sanjana/CNN_results\"\n",
    "\n",
    "silent_lst = ['initiator_codon_variant', 'synonymous_variant', 'stop_retained_variant']\n",
    "\n",
    "out_dir = \"/n/data1/hms/dbmi/farhat/Sanjana/TRUST_lowAF\"\n",
    "F2_thresh = 0.03"
   ]
  },
  {
   "cell_type": "markdown",
   "id": "30a1a53c-1c28-4b85-b353-377637c49869",
   "metadata": {},
   "source": [
    "# pids to use for Analysis\n",
    "\n",
    "This includes all patients with longitudinal sampling, regardless of whether or not their lineage designations match."
   ]
  },
  {
   "cell_type": "code",
   "execution_count": 20,
   "id": "ad9949a4-963b-4ee9-bee3-309766eab89e",
   "metadata": {
    "tags": []
   },
   "outputs": [
    {
     "data": {
      "text/plain": [
       "(315, 630, 630)"
      ]
     },
     "execution_count": 20,
     "metadata": {},
     "output_type": "execute_result"
    }
   ],
   "source": [
    "df_longitudinal_pids = pd.read_csv(f\"./data/pids_WGS_data.csv\")\n",
    "df_longitudinal_pids.pid.nunique(), df_longitudinal_pids.SampleID.nunique(), len(df_longitudinal_pids)"
   ]
  },
  {
   "cell_type": "code",
   "execution_count": 79,
   "id": "4a4aea1c-3d5b-4208-b9f2-1267686e66ef",
   "metadata": {
    "tags": []
   },
   "outputs": [
    {
     "data": {
      "text/html": [
       "<div>\n",
       "<style scoped>\n",
       "    .dataframe tbody tr th:only-of-type {\n",
       "        vertical-align: middle;\n",
       "    }\n",
       "\n",
       "    .dataframe tbody tr th {\n",
       "        vertical-align: top;\n",
       "    }\n",
       "\n",
       "    .dataframe thead th {\n",
       "        text-align: right;\n",
       "    }\n",
       "</style>\n",
       "<table border=\"1\" class=\"dataframe\">\n",
       "  <thead>\n",
       "    <tr style=\"text-align: right;\">\n",
       "      <th></th>\n",
       "      <th>pid</th>\n",
       "      <th>Original_ID</th>\n",
       "      <th>SampleID</th>\n",
       "      <th>Sampling_Week</th>\n",
       "      <th>Coll2014</th>\n",
       "      <th>Freschi2020</th>\n",
       "      <th>Lipworth2019</th>\n",
       "      <th>Shitikov2017</th>\n",
       "      <th>Stucki2016</th>\n",
       "      <th>F2</th>\n",
       "      <th>Lineage</th>\n",
       "      <th>Paired_Sample_Num</th>\n",
       "      <th>total_samples</th>\n",
       "    </tr>\n",
       "  </thead>\n",
       "  <tbody>\n",
       "  </tbody>\n",
       "</table>\n",
       "</div>"
      ],
      "text/plain": [
       "Empty DataFrame\n",
       "Columns: [pid, Original_ID, SampleID, Sampling_Week, Coll2014, Freschi2020, Lipworth2019, Shitikov2017, Stucki2016, F2, Lineage, Paired_Sample_Num, total_samples]\n",
       "Index: []"
      ]
     },
     "execution_count": 79,
     "metadata": {},
     "output_type": "execute_result"
    }
   ],
   "source": [
    "df_longitudinal_pids.query(\"SampleID=='MFS-742'\")"
   ]
  },
  {
   "cell_type": "code",
   "execution_count": 80,
   "id": "79bd31f7-ce69-43e2-a674-9f5df4a627cf",
   "metadata": {
    "tags": []
   },
   "outputs": [
    {
     "data": {
      "text/html": [
       "<div>\n",
       "<style scoped>\n",
       "    .dataframe tbody tr th:only-of-type {\n",
       "        vertical-align: middle;\n",
       "    }\n",
       "\n",
       "    .dataframe tbody tr th {\n",
       "        vertical-align: top;\n",
       "    }\n",
       "\n",
       "    .dataframe thead th {\n",
       "        text-align: right;\n",
       "    }\n",
       "</style>\n",
       "<table border=\"1\" class=\"dataframe\">\n",
       "  <thead>\n",
       "    <tr style=\"text-align: right;\">\n",
       "      <th></th>\n",
       "      <th>pid</th>\n",
       "      <th>Original_ID</th>\n",
       "      <th>SampleID</th>\n",
       "      <th>Sampling_Week</th>\n",
       "      <th>Coll2014</th>\n",
       "      <th>Freschi2020</th>\n",
       "      <th>Lipworth2019</th>\n",
       "      <th>Shitikov2017</th>\n",
       "      <th>Stucki2016</th>\n",
       "      <th>F2</th>\n",
       "      <th>Lineage</th>\n",
       "      <th>Paired_Sample_Num</th>\n",
       "      <th>total_samples</th>\n",
       "    </tr>\n",
       "  </thead>\n",
       "  <tbody>\n",
       "    <tr>\n",
       "      <th>146</th>\n",
       "      <td>T0114</td>\n",
       "      <td>S0114-01</td>\n",
       "      <td>MFS-364</td>\n",
       "      <td>1</td>\n",
       "      <td>4.3.2.1</td>\n",
       "      <td>4.2.1.2.1.1.i1</td>\n",
       "      <td>lam</td>\n",
       "      <td>NaN</td>\n",
       "      <td>4.3/LAM</td>\n",
       "      <td>0.010398</td>\n",
       "      <td>4</td>\n",
       "      <td>1</td>\n",
       "      <td>4</td>\n",
       "    </tr>\n",
       "    <tr>\n",
       "      <th>147</th>\n",
       "      <td>T0114</td>\n",
       "      <td>S0114-04</td>\n",
       "      <td>MFS-873</td>\n",
       "      <td>4</td>\n",
       "      <td>4.3.2.1</td>\n",
       "      <td>4.2.1.2.1.1.i1</td>\n",
       "      <td>lam</td>\n",
       "      <td>NaN</td>\n",
       "      <td>4.3/LAM</td>\n",
       "      <td>0.010419</td>\n",
       "      <td>4</td>\n",
       "      <td>2</td>\n",
       "      <td>4</td>\n",
       "    </tr>\n",
       "  </tbody>\n",
       "</table>\n",
       "</div>"
      ],
      "text/plain": [
       "       pid Original_ID SampleID  Sampling_Week Coll2014     Freschi2020  \\\n",
       "146  T0114    S0114-01  MFS-364              1  4.3.2.1  4.2.1.2.1.1.i1   \n",
       "147  T0114    S0114-04  MFS-873              4  4.3.2.1  4.2.1.2.1.1.i1   \n",
       "\n",
       "    Lipworth2019 Shitikov2017 Stucki2016        F2 Lineage  Paired_Sample_Num  \\\n",
       "146          lam          NaN    4.3/LAM  0.010398       4                  1   \n",
       "147          lam          NaN    4.3/LAM  0.010419       4                  2   \n",
       "\n",
       "     total_samples  \n",
       "146              4  \n",
       "147              4  "
      ]
     },
     "execution_count": 80,
     "metadata": {},
     "output_type": "execute_result"
    }
   ],
   "source": [
    "df_longitudinal_pids.query(\"pid=='T0114'\")"
   ]
  },
  {
   "cell_type": "code",
   "execution_count": 21,
   "id": "a54215b5-2a0b-4a6f-97d6-766f2dc7efdb",
   "metadata": {
    "tags": []
   },
   "outputs": [
    {
     "data": {
      "text/plain": [
       "array([1, 2])"
      ]
     },
     "execution_count": 21,
     "metadata": {},
     "output_type": "execute_result"
    }
   ],
   "source": [
    "df_longitudinal_pids.Paired_Sample_Num.unique()"
   ]
  },
  {
   "cell_type": "code",
   "execution_count": 22,
   "id": "1abbd97f-5e42-4a16-8823-94989fad0842",
   "metadata": {
    "tags": []
   },
   "outputs": [
    {
     "name": "stdout",
     "output_type": "stream",
     "text": [
      "880248 runs of at least 2\n",
      "730854 nucleotides are in homopolymeric tracts\n"
     ]
    }
   ],
   "source": [
    "# HT_regions = find_HT_regions(str(h37Rv_seq.seq))\n",
    "# HT_regions['Region'] = HT_regions['POS'].map(h37Rv_coords_dict)\n",
    "HT_regions = pd.read_csv(\"./data/nucleotide_runs_all_lengths.csv\")\n",
    "print(f\"{len(HT_regions)} runs of at least 2\")\n",
    "\n",
    "HT_nucs = []\n",
    "\n",
    "for i, row in HT_regions.query(\"Length >= 3\").iterrows():\n",
    "    # don't need to add 1 to the end because the start is one of the N nucleotides\n",
    "    # BUT add 1 bp to the front and back so that you include variants that occur adjacent to an HT region, not just within it\n",
    "    HT_nucs += list(np.arange(row['POS'] - 1, row['POS'] - 1 + row['Length'] + 1))\n",
    "\n",
    "HT_nucs = np.unique(HT_nucs)\n",
    "print(f\"{len(HT_nucs)} nucleotides are in homopolymeric tracts\")"
   ]
  },
  {
   "cell_type": "markdown",
   "id": "d919046f-f8dd-40c2-acf7-f732d2b01f6d",
   "metadata": {},
   "source": [
    "# Distribution of Time Differences between Sampling 1 and 2"
   ]
  },
  {
   "cell_type": "code",
   "execution_count": 23,
   "id": "b52c2d71-678f-4939-ac3f-4e5df4a9f09d",
   "metadata": {
    "tags": []
   },
   "outputs": [],
   "source": [
    "sampling_weeks_comparison = df_longitudinal_pids.pivot(index='pid', columns='Paired_Sample_Num', values='Sampling_Week').rename(columns={1: 'Sample1', 2: 'Sample2'}).reset_index()\n",
    "sampling_weeks_comparison['Diff'] = sampling_weeks_comparison['Sample2'] - sampling_weeks_comparison['Sample1']"
   ]
  },
  {
   "cell_type": "code",
   "execution_count": 24,
   "id": "8a5e0a8a-f018-4314-bebf-d08d88e9189b",
   "metadata": {
    "tags": []
   },
   "outputs": [
    {
     "data": {
      "text/plain": [
       "Diff\n",
       "3    36\n",
       "4    53\n",
       "5    60\n",
       "6    59\n",
       "7    97\n",
       "8    10\n",
       "Name: count, dtype: int64"
      ]
     },
     "execution_count": 24,
     "metadata": {},
     "output_type": "execute_result"
    }
   ],
   "source": [
    "sampling_weeks_comparison['Diff'].value_counts().sort_index()"
   ]
  },
  {
   "cell_type": "code",
   "execution_count": 25,
   "id": "6f13a2b6-be8a-4d0d-9cb9-40c1330bd515",
   "metadata": {
    "tags": []
   },
   "outputs": [
    {
     "data": {
      "text/plain": [
       "(315, 5.501587301587302, 6.0)"
      ]
     },
     "execution_count": 25,
     "metadata": {},
     "output_type": "execute_result"
    }
   ],
   "source": [
    "len(sampling_weeks_comparison), sampling_weeks_comparison['Diff'].mean(), sampling_weeks_comparison['Diff'].median()"
   ]
  },
  {
   "cell_type": "markdown",
   "id": "ddc7cfd6-035e-4383-8dd7-ba9b22f5ffdb",
   "metadata": {},
   "source": [
    "# Longitudinal Changes in F2 Score"
   ]
  },
  {
   "cell_type": "code",
   "execution_count": 26,
   "id": "a876ba6a-c7cb-4099-94b5-6e22ea9962bb",
   "metadata": {
    "tags": []
   },
   "outputs": [],
   "source": [
    "# Plot the Change in F2 Score between first and second samplings to see if there are any trends\n",
    "F2_matrix_by_sample = df_longitudinal_pids.pivot(index='pid', columns='Paired_Sample_Num', values='F2').reset_index()\n",
    "F2_matrix_by_sample.columns = ['pid', 'Sample1', 'Sample2']"
   ]
  },
  {
   "cell_type": "code",
   "execution_count": 27,
   "id": "55455917-ff34-4c5c-99c4-8b39d490c644",
   "metadata": {
    "tags": []
   },
   "outputs": [],
   "source": [
    "def two_WGS_sample_scatterplot(df_plot, title, x_col='Sample1', y_col='Sample2', hue_col=None, F2_thresh=None, color_palette=None, saveName=None):\n",
    "\n",
    "    df = df_plot.copy()\n",
    "    \n",
    "    # add 50% of the second lowest value to 0s. Do this so that they don't just get excluded from the plot. But use the original 0s when computing summary stats and significance\n",
    "    eps = np.unique(df_plot[[x_col, y_col]], axis=None)[1] * 0.5\n",
    "    \n",
    "    df[[x_col, y_col]] = df[[x_col, y_col]].replace(0, eps)\n",
    "\n",
    "    if hue_col is not None:\n",
    "        \n",
    "        sns.scatterplot(data=df,\n",
    "                        x=x_col,\n",
    "                        y=y_col,\n",
    "                        zorder=2,\n",
    "                        hue=hue_col,\n",
    "                        hue_order=np.sort(df[hue_col]),\n",
    "                        palette=color_palette,\n",
    "                       )\n",
    "        \n",
    "    else:\n",
    "        sns.scatterplot(data=df,\n",
    "                        x=x_col,\n",
    "                        y=y_col,\n",
    "                        zorder=2,\n",
    "                       )\n",
    "\n",
    "    line_vals = np.linspace(df[[x_col, y_col]].min(axis=None), df[[x_col, y_col]].max(axis=None))\n",
    "    \n",
    "    plt.plot(line_vals, line_vals, color='black', linewidth=1, zorder=1)\n",
    "    \n",
    "    if F2_thresh is not None:\n",
    "        plt.axvline(x=F2_thresh, color='darkred', linestyle='--', zorder=0, linewidth=0.75, label=f'F2 = {F2_thresh}')\n",
    "        plt.axhline(y=F2_thresh, color='darkred', linestyle='--', zorder=0, linewidth=0.75)\n",
    "        plt.legend()\n",
    "    \n",
    "    plt.xlabel('Sample 1')\n",
    "    plt.ylabel('Sample 2')\n",
    "    \n",
    "    plt.xscale('log')\n",
    "    plt.yscale('log')\n",
    "    \n",
    "    plt.title(f\"{title} of {df.pid.nunique()} pids with Longitudinal Sampling\")    \n",
    "    sns.despine()\n",
    "\n",
    "    if saveName is None:\n",
    "        plt.show()\n",
    "    else:\n",
    "        plt.savefig(saveName, bbox_inches='tight')"
   ]
  },
  {
   "cell_type": "code",
   "execution_count": 28,
   "id": "c1d916fc-288a-4934-b030-db448e999448",
   "metadata": {
    "tags": []
   },
   "outputs": [
    {
     "data": {
      "image/png": "[encoded data removed]",
      "text/plain": [
       "<Figure size 640x480 with 1 Axes>"
      ]
     },
     "metadata": {},
     "output_type": "display_data"
    }
   ],
   "source": [
    "two_WGS_sample_scatterplot(F2_matrix_by_sample, \"F2 Scores\", F2_thresh=None, saveName=\"./results/figures/F2_longitudinal.svg\")"
   ]
  },
  {
   "cell_type": "code",
   "execution_count": 29,
   "id": "be4e15cc-761e-421f-8f7f-3669f35a40ce",
   "metadata": {
    "tags": []
   },
   "outputs": [
    {
     "data": {
      "text/plain": [
       "TtestResult(statistic=3.036321900408923, pvalue=0.001297709384997415, df=314)"
      ]
     },
     "execution_count": 29,
     "metadata": {},
     "output_type": "execute_result"
    }
   ],
   "source": [
    "st.ttest_rel(np.log(F2_matrix_by_sample['Sample1']),\n",
    "             np.log(F2_matrix_by_sample['Sample2']),\n",
    "             alternative='greater',\n",
    "           )"
   ]
  },
  {
   "cell_type": "code",
   "execution_count": 30,
   "id": "d2a3673a-b883-4908-9212-c94180659a8e",
   "metadata": {
    "tags": []
   },
   "outputs": [
    {
     "data": {
      "text/html": [
       "<div>\n",
       "<style scoped>\n",
       "    .dataframe tbody tr th:only-of-type {\n",
       "        vertical-align: middle;\n",
       "    }\n",
       "\n",
       "    .dataframe tbody tr th {\n",
       "        vertical-align: top;\n",
       "    }\n",
       "\n",
       "    .dataframe thead th {\n",
       "        text-align: right;\n",
       "    }\n",
       "</style>\n",
       "<table border=\"1\" class=\"dataframe\">\n",
       "  <thead>\n",
       "    <tr style=\"text-align: right;\">\n",
       "      <th></th>\n",
       "      <th>pid</th>\n",
       "      <th>Sample1</th>\n",
       "      <th>Sample2</th>\n",
       "    </tr>\n",
       "  </thead>\n",
       "  <tbody>\n",
       "    <tr>\n",
       "      <th>147</th>\n",
       "      <td>T0224</td>\n",
       "      <td>0.012427</td>\n",
       "      <td>0.193040</td>\n",
       "    </tr>\n",
       "    <tr>\n",
       "      <th>153</th>\n",
       "      <td>T0235</td>\n",
       "      <td>0.008906</td>\n",
       "      <td>0.118415</td>\n",
       "    </tr>\n",
       "  </tbody>\n",
       "</table>\n",
       "</div>"
      ],
      "text/plain": [
       "       pid   Sample1   Sample2\n",
       "147  T0224  0.012427  0.193040\n",
       "153  T0235  0.008906  0.118415"
      ]
     },
     "execution_count": 30,
     "metadata": {},
     "output_type": "execute_result"
    }
   ],
   "source": [
    "F2_matrix_by_sample.query(\"Sample1 < 0.1 & Sample2 > 0.1\")"
   ]
  },
  {
   "cell_type": "markdown",
   "id": "910f70bc-8f8b-40bf-b503-5a8525e9e3a7",
   "metadata": {},
   "source": [
    "# Associate F2 with Disease Burden at Baseline:\n",
    "\n",
    "<ul>\n",
    "    <li>TTP</li>\n",
    "    <li>Predicted PLI</li>\n",
    "</ul>"
   ]
  },
  {
   "cell_type": "code",
   "execution_count": 63,
   "id": "461e7f8f-a18e-4531-805e-16d6f4de6c9a",
   "metadata": {
    "tags": []
   },
   "outputs": [
    {
     "name": "stdout",
     "output_type": "stream",
     "text": [
      "403 pids with baseline TTPs within the first 2 weeks\n",
      "310 pids have valid TTP and smear at baseline\n"
     ]
    }
   ],
   "source": [
    "df_trust_patients = pd.read_csv(f\"{TRUST_data_dir}/20250818_combined_patient_WGS_data.csv\")\n",
    "\n",
    "for col in df_trust_patients:\n",
    "    if col in df_longitudinal_pids.columns and col not in ['pid', 'SampleID', 'Original_ID']:\n",
    "        del df_trust_patients[col]\n",
    "\n",
    "df_trust_patients = df_trust_patients.merge(df_longitudinal_pids, on=['pid', 'SampleID', 'Original_ID'])\n",
    "PLI_Timika_predictions = pd.read_csv(f\"{TRUST_data_dir}/PLI_Timika_predictions.csv\").merge(df_longitudinal_pids, on='pid').drop_duplicates(subset='pid', keep='first')\n",
    "\n",
    "df_TTP_smear = pd.read_csv(f\"{TRUST_data_dir}/TTP_smear_results.csv\")\n",
    "df_TCC = pd.read_csv(f\"{TRUST_data_dir}/imputed_TCC.csv\")\n",
    "# df_final_outcomes = pd.read_csv(f\"{TRUST_data_dir}/tx_outcomes.csv\")\n",
    "\n",
    "print(f\"{df_TTP_smear.dropna(subset='culture_sample_num').query('culture_sample_num <= 2').pid.nunique()} pids with baseline TTPs within the first 2 weeks\")\n",
    "\n",
    "df_pids_valid_smear_TTP = df_TTP_smear.query(\"culture_sample_num <= 2\").merge(df_longitudinal_pids, on='pid')\n",
    "print(f\"{df_pids_valid_smear_TTP.pid.nunique()} pids have valid TTP and smear at baseline\")\n",
    "\n",
    "# save a dataframe of just the first sample for each pid\n",
    "df_baseline_pids_valid_smear_TTP = df_pids_valid_smear_TTP.query(\"Paired_Sample_Num == 1\").reset_index(drop=True)"
   ]
  },
  {
   "cell_type": "code",
   "execution_count": 50,
   "id": "88ccf49f-d595-41aa-898c-7ee1239a8e9a",
   "metadata": {
    "tags": []
   },
   "outputs": [],
   "source": [
    "# patients with the first culture taken after week 2. Exclude just for this association\n",
    "# df_TTP_smear.query(\"pid not in @df_pids_valid_smear_TTP.pid & pid in @df_longitudinal_pids.pid\")"
   ]
  },
  {
   "cell_type": "code",
   "execution_count": 75,
   "id": "a46a02a9-6c32-4967-9ebd-ecb8ae713d9f",
   "metadata": {
    "tags": []
   },
   "outputs": [
    {
     "data": {
      "image/png": "[encoded data removed]",
      "text/plain": [
       "<Figure size 640x480 with 1 Axes>"
      ]
     },
     "metadata": {},
     "output_type": "display_data"
    }
   ],
   "source": [
    "sns.scatterplot(data=df_baseline_pids_valid_smear_TTP,\n",
    "                x='F2',\n",
    "                y='TTP'\n",
    "               )\n",
    "\n",
    "plt.xscale('log')\n",
    "plt.yscale('log')\n",
    "\n",
    "sns.despine()\n",
    "plt.show()"
   ]
  },
  {
   "cell_type": "code",
   "execution_count": 42,
   "id": "c6a64542-0818-4c5c-b1f9-08ed794b8e0a",
   "metadata": {
    "tags": []
   },
   "outputs": [
    {
     "data": {
      "text/plain": [
       "SignificanceResult(statistic=-0.07199146423867359, pvalue=0.20620823182830914)"
      ]
     },
     "execution_count": 42,
     "metadata": {},
     "output_type": "execute_result"
    }
   ],
   "source": [
    "st.spearmanr(df_baseline_pids_valid_smear_TTP['F2'],\n",
    "             df_baseline_pids_valid_smear_TTP['TTP']\n",
    "            )"
   ]
  },
  {
   "cell_type": "code",
   "execution_count": null,
   "id": "f3fa0613-02ae-428b-a1c1-18f7cf4d96f7",
   "metadata": {},
   "outputs": [],
   "source": [
    "df_baseline_pids_valid_smear_TTP.groupby('Lineage')['TTP'].mean()"
   ]
  },
  {
   "cell_type": "code",
   "execution_count": 77,
   "id": "d6dd8d1c-f0de-4287-9617-d865c9ecec28",
   "metadata": {
    "tags": []
   },
   "outputs": [
    {
     "data": {
      "image/png": "[encoded data removed]",
      "text/plain": [
       "<Figure size 640x480 with 1 Axes>"
      ]
     },
     "metadata": {},
     "output_type": "display_data"
    }
   ],
   "source": [
    "sns.scatterplot(data=PLI_Timika_predictions,\n",
    "                x='F2',\n",
    "                y='predicted_PLI'\n",
    "               )\n",
    "\n",
    "plt.xscale('log')\n",
    "# plt.yscale('log')\n",
    "\n",
    "sns.despine()\n",
    "plt.show()"
   ]
  },
  {
   "cell_type": "code",
   "execution_count": 69,
   "id": "fa21b95e-9ee4-44dc-a3b4-93b2e542e80c",
   "metadata": {
    "tags": []
   },
   "outputs": [
    {
     "data": {
      "text/plain": [
       "SignificanceResult(statistic=0.019158762931783424, pvalue=0.7356435619949762)"
      ]
     },
     "execution_count": 69,
     "metadata": {},
     "output_type": "execute_result"
    }
   ],
   "source": [
    "st.spearmanr(PLI_Timika_predictions['F2'],\n",
    "             PLI_Timika_predictions['predicted_PLI']\n",
    "            )"
   ]
  },
  {
   "cell_type": "code",
   "execution_count": 71,
   "id": "2227ff76-9a44-44bc-8915-02c0c16cdcf8",
   "metadata": {
    "tags": []
   },
   "outputs": [
    {
     "data": {
      "text/plain": [
       "Lineage\n",
       "2      24.822115\n",
       "2,4    34.687538\n",
       "3      23.040998\n",
       "4      25.098935\n",
       "Name: predicted_PLI, dtype: float64"
      ]
     },
     "execution_count": 71,
     "metadata": {},
     "output_type": "execute_result"
    }
   ],
   "source": [
    "PLI_Timika_predictions.groupby('Lineage')['predicted_PLI'].mean()"
   ]
  },
  {
   "cell_type": "code",
   "execution_count": 72,
   "id": "6c9279bf-b7b7-45d7-84bc-e5ad766e13b5",
   "metadata": {
    "tags": []
   },
   "outputs": [
    {
     "data": {
      "text/html": [
       "<div>\n",
       "<style scoped>\n",
       "    .dataframe tbody tr th:only-of-type {\n",
       "        vertical-align: middle;\n",
       "    }\n",
       "\n",
       "    .dataframe tbody tr th {\n",
       "        vertical-align: top;\n",
       "    }\n",
       "\n",
       "    .dataframe thead th {\n",
       "        text-align: right;\n",
       "    }\n",
       "</style>\n",
       "<table border=\"1\" class=\"dataframe\">\n",
       "  <thead>\n",
       "    <tr style=\"text-align: right;\">\n",
       "      <th></th>\n",
       "      <th>pid</th>\n",
       "      <th>View</th>\n",
       "      <th>Outlier</th>\n",
       "      <th>predicted_PLI</th>\n",
       "      <th>predicted_Timika_Score</th>\n",
       "      <th>Original_ID</th>\n",
       "      <th>SampleID</th>\n",
       "      <th>Sampling_Week</th>\n",
       "      <th>Coll2014</th>\n",
       "      <th>Freschi2020</th>\n",
       "      <th>Lipworth2019</th>\n",
       "      <th>Shitikov2017</th>\n",
       "      <th>Stucki2016</th>\n",
       "      <th>F2</th>\n",
       "      <th>Lineage</th>\n",
       "      <th>Paired_Sample_Num</th>\n",
       "      <th>total_samples</th>\n",
       "    </tr>\n",
       "  </thead>\n",
       "  <tbody>\n",
       "    <tr>\n",
       "      <th>10</th>\n",
       "      <td>T0010</td>\n",
       "      <td>1B</td>\n",
       "      <td>0</td>\n",
       "      <td>34.219090</td>\n",
       "      <td>48.280827</td>\n",
       "      <td>S0010-01</td>\n",
       "      <td>MFS-336</td>\n",
       "      <td>1</td>\n",
       "      <td>4.1.1.1,2.2.1.1</td>\n",
       "      <td>4.1.i1.2.1,2.2.1.1.1</td>\n",
       "      <td>beijing,xtype,westafrican1</td>\n",
       "      <td>lin2.2.1,pacific_RD150</td>\n",
       "      <td>NaN</td>\n",
       "      <td>0.459022</td>\n",
       "      <td>2,4</td>\n",
       "      <td>1</td>\n",
       "      <td>2</td>\n",
       "    </tr>\n",
       "    <tr>\n",
       "      <th>398</th>\n",
       "      <td>T0305</td>\n",
       "      <td>1B</td>\n",
       "      <td>1</td>\n",
       "      <td>28.317162</td>\n",
       "      <td>38.619675</td>\n",
       "      <td>S0305-01</td>\n",
       "      <td>MFS-313</td>\n",
       "      <td>1</td>\n",
       "      <td>4.3.2.1,2.2.1.1</td>\n",
       "      <td>2.2.1.1.1,4.2.1.2.1.1.i1</td>\n",
       "      <td>beijing,lam</td>\n",
       "      <td>lin2.2.1,pacific_RD150</td>\n",
       "      <td>4.3/LAM</td>\n",
       "      <td>0.435704</td>\n",
       "      <td>2,4</td>\n",
       "      <td>1</td>\n",
       "      <td>2</td>\n",
       "    </tr>\n",
       "    <tr>\n",
       "      <th>404</th>\n",
       "      <td>T0311</td>\n",
       "      <td>1B</td>\n",
       "      <td>0</td>\n",
       "      <td>41.526363</td>\n",
       "      <td>54.280132</td>\n",
       "      <td>S0311-01</td>\n",
       "      <td>MFS-317</td>\n",
       "      <td>1</td>\n",
       "      <td>4.3.2.1,2.2.1.1</td>\n",
       "      <td>2.2.1.1.1,4.2.1.2.1.1.i1</td>\n",
       "      <td>beijing,lam</td>\n",
       "      <td>lin2.2.1,pacific_RD150</td>\n",
       "      <td>4.3/LAM</td>\n",
       "      <td>0.378468</td>\n",
       "      <td>2,4</td>\n",
       "      <td>1</td>\n",
       "      <td>2</td>\n",
       "    </tr>\n",
       "  </tbody>\n",
       "</table>\n",
       "</div>"
      ],
      "text/plain": [
       "       pid View  Outlier  predicted_PLI  predicted_Timika_Score Original_ID  \\\n",
       "10   T0010   1B        0      34.219090               48.280827    S0010-01   \n",
       "398  T0305   1B        1      28.317162               38.619675    S0305-01   \n",
       "404  T0311   1B        0      41.526363               54.280132    S0311-01   \n",
       "\n",
       "    SampleID  Sampling_Week         Coll2014               Freschi2020  \\\n",
       "10   MFS-336              1  4.1.1.1,2.2.1.1      4.1.i1.2.1,2.2.1.1.1   \n",
       "398  MFS-313              1  4.3.2.1,2.2.1.1  2.2.1.1.1,4.2.1.2.1.1.i1   \n",
       "404  MFS-317              1  4.3.2.1,2.2.1.1  2.2.1.1.1,4.2.1.2.1.1.i1   \n",
       "\n",
       "                   Lipworth2019            Shitikov2017 Stucki2016        F2  \\\n",
       "10   beijing,xtype,westafrican1  lin2.2.1,pacific_RD150        NaN  0.459022   \n",
       "398                 beijing,lam  lin2.2.1,pacific_RD150    4.3/LAM  0.435704   \n",
       "404                 beijing,lam  lin2.2.1,pacific_RD150    4.3/LAM  0.378468   \n",
       "\n",
       "    Lineage  Paired_Sample_Num  total_samples  \n",
       "10      2,4                  1              2  \n",
       "398     2,4                  1              2  \n",
       "404     2,4                  1              2  "
      ]
     },
     "execution_count": 72,
     "metadata": {},
     "output_type": "execute_result"
    }
   ],
   "source": [
    "PLI_Timika_predictions.query(\"Lineage=='2,4'\")"
   ]
  },
  {
   "cell_type": "markdown",
   "id": "679def10-c09f-4b95-a8b3-5929c8ddba10",
   "metadata": {},
   "source": [
    "# Fixed Phase Variants present in ≥90% of Samples. Are these suspicious?"
   ]
  },
  {
   "cell_type": "code",
   "execution_count": 96,
   "id": "a410dae1-1977-40ae-b1a6-54b659058472",
   "metadata": {
    "tags": []
   },
   "outputs": [
    {
     "name": "stdout",
     "output_type": "stream",
     "text": [
      "174\n"
     ]
    }
   ],
   "source": [
    "data_dir = \"./results/full_genome\"\n",
    "\n",
    "df_phase_variants = pd.concat([pd.read_csv(f\"{data_dir}/fixed_variants.csv\")]).query(\"POS in @HT_nucs\")#.query(\"Phase_Variant==1\")\n",
    "    \n",
    "# exclude variants in regions that are RNAs, promoters, or transcriptional signals. So exclude defined annotations that are non-coding\n",
    "# NOTE THAT THIS DOES NOT EXCLUDE INTERGENIC REGIONS\n",
    "df_phase_variants = df_phase_variants.query(\"GENE not in @non_coding_regions\").reset_index(drop=True)\n",
    "print(df_phase_variants.SampleID.nunique())"
   ]
  },
  {
   "cell_type": "code",
   "execution_count": 101,
   "id": "8fb0c106-d1f5-4601-8425-dca36841bd38",
   "metadata": {
    "tags": []
   },
   "outputs": [
    {
     "data": {
      "text/html": [
       "<div>\n",
       "<style scoped>\n",
       "    .dataframe tbody tr th:only-of-type {\n",
       "        vertical-align: middle;\n",
       "    }\n",
       "\n",
       "    .dataframe tbody tr th {\n",
       "        vertical-align: top;\n",
       "    }\n",
       "\n",
       "    .dataframe thead th {\n",
       "        text-align: right;\n",
       "    }\n",
       "</style>\n",
       "<table border=\"1\" class=\"dataframe\">\n",
       "  <thead>\n",
       "    <tr style=\"text-align: right;\">\n",
       "      <th></th>\n",
       "      <th>SampleID</th>\n",
       "      <th>POS</th>\n",
       "      <th>REF</th>\n",
       "      <th>ALT</th>\n",
       "      <th>QUAL</th>\n",
       "      <th>DP</th>\n",
       "      <th>DPB</th>\n",
       "      <th>RO</th>\n",
       "      <th>AO</th>\n",
       "      <th>AF</th>\n",
       "      <th>...</th>\n",
       "      <th>RPPR</th>\n",
       "      <th>RPL</th>\n",
       "      <th>RPR</th>\n",
       "      <th>ANN</th>\n",
       "      <th>GENE</th>\n",
       "      <th>EFFECT</th>\n",
       "      <th>HGVS_C</th>\n",
       "      <th>HGVS_P</th>\n",
       "      <th>SRP_prob</th>\n",
       "      <th>SAP_prob</th>\n",
       "    </tr>\n",
       "  </thead>\n",
       "  <tbody>\n",
       "    <tr>\n",
       "      <th>0</th>\n",
       "      <td>MFS-162</td>\n",
       "      <td>14861</td>\n",
       "      <td>G</td>\n",
       "      <td>T</td>\n",
       "      <td>8142.16</td>\n",
       "      <td>268</td>\n",
       "      <td>268.000</td>\n",
       "      <td>0</td>\n",
       "      <td>268.0</td>\n",
       "      <td>1.000000</td>\n",
       "      <td>...</td>\n",
       "      <td>0.00000</td>\n",
       "      <td>111.0</td>\n",
       "      <td>157.0</td>\n",
       "      <td>['T|missense_variant|MODERATE|Rv0012|Rv0012|tr...</td>\n",
       "      <td>Rv0012</td>\n",
       "      <td>missense_variant</td>\n",
       "      <td>c.773G&gt;T</td>\n",
       "      <td>p.Gly258Val</td>\n",
       "      <td>NaN</td>\n",
       "      <td>0.414901</td>\n",
       "    </tr>\n",
       "    <tr>\n",
       "      <th>1</th>\n",
       "      <td>MFS-162</td>\n",
       "      <td>44768</td>\n",
       "      <td>A</td>\n",
       "      <td>G</td>\n",
       "      <td>8189.35</td>\n",
       "      <td>272</td>\n",
       "      <td>272.000</td>\n",
       "      <td>1</td>\n",
       "      <td>270.0</td>\n",
       "      <td>0.992647</td>\n",
       "      <td>...</td>\n",
       "      <td>5.18177</td>\n",
       "      <td>121.0</td>\n",
       "      <td>149.0</td>\n",
       "      <td>['G|missense_variant|MODERATE|leuS|Rv0041|tran...</td>\n",
       "      <td>leuS</td>\n",
       "      <td>missense_variant</td>\n",
       "      <td>c.1207A&gt;G</td>\n",
       "      <td>p.Arg403Gly</td>\n",
       "      <td>NaN</td>\n",
       "      <td>0.485402</td>\n",
       "    </tr>\n",
       "    <tr>\n",
       "      <th>2</th>\n",
       "      <td>MFS-162</td>\n",
       "      <td>49690</td>\n",
       "      <td>GCC</td>\n",
       "      <td>G</td>\n",
       "      <td>7132.11</td>\n",
       "      <td>236</td>\n",
       "      <td>157.833</td>\n",
       "      <td>0</td>\n",
       "      <td>235.0</td>\n",
       "      <td>0.995763</td>\n",
       "      <td>...</td>\n",
       "      <td>0.00000</td>\n",
       "      <td>121.0</td>\n",
       "      <td>114.0</td>\n",
       "      <td>['G|frameshift_variant|HIGH|Rv0045c|Rv0045c|tr...</td>\n",
       "      <td>Rv0045c</td>\n",
       "      <td>frameshift_variant</td>\n",
       "      <td>c.248_249delGG</td>\n",
       "      <td>p.Gly83fs</td>\n",
       "      <td>NaN</td>\n",
       "      <td>0.132267</td>\n",
       "    </tr>\n",
       "    <tr>\n",
       "      <th>3</th>\n",
       "      <td>MFS-162</td>\n",
       "      <td>52209</td>\n",
       "      <td>C</td>\n",
       "      <td>G</td>\n",
       "      <td>9085.24</td>\n",
       "      <td>300</td>\n",
       "      <td>300.000</td>\n",
       "      <td>0</td>\n",
       "      <td>300.0</td>\n",
       "      <td>1.000000</td>\n",
       "      <td>...</td>\n",
       "      <td>0.00000</td>\n",
       "      <td>161.0</td>\n",
       "      <td>139.0</td>\n",
       "      <td>['G|missense_variant|MODERATE|Rv0048c|Rv0048c|...</td>\n",
       "      <td>Rv0048c</td>\n",
       "      <td>missense_variant</td>\n",
       "      <td>c.489G&gt;C</td>\n",
       "      <td>p.Met163Ile</td>\n",
       "      <td>NaN</td>\n",
       "      <td>0.162056</td>\n",
       "    </tr>\n",
       "    <tr>\n",
       "      <th>4</th>\n",
       "      <td>MFS-162</td>\n",
       "      <td>62049</td>\n",
       "      <td>A</td>\n",
       "      <td>G</td>\n",
       "      <td>8334.65</td>\n",
       "      <td>274</td>\n",
       "      <td>274.000</td>\n",
       "      <td>0</td>\n",
       "      <td>274.0</td>\n",
       "      <td>1.000000</td>\n",
       "      <td>...</td>\n",
       "      <td>0.00000</td>\n",
       "      <td>129.0</td>\n",
       "      <td>145.0</td>\n",
       "      <td>['G|missense_variant|MODERATE|dnaB|Rv0058|tran...</td>\n",
       "      <td>dnaB</td>\n",
       "      <td>missense_variant</td>\n",
       "      <td>c.1654A&gt;G</td>\n",
       "      <td>p.Arg552Gly</td>\n",
       "      <td>NaN</td>\n",
       "      <td>0.416600</td>\n",
       "    </tr>\n",
       "    <tr>\n",
       "      <th>...</th>\n",
       "      <td>...</td>\n",
       "      <td>...</td>\n",
       "      <td>...</td>\n",
       "      <td>...</td>\n",
       "      <td>...</td>\n",
       "      <td>...</td>\n",
       "      <td>...</td>\n",
       "      <td>...</td>\n",
       "      <td>...</td>\n",
       "      <td>...</td>\n",
       "      <td>...</td>\n",
       "      <td>...</td>\n",
       "      <td>...</td>\n",
       "      <td>...</td>\n",
       "      <td>...</td>\n",
       "      <td>...</td>\n",
       "      <td>...</td>\n",
       "      <td>...</td>\n",
       "      <td>...</td>\n",
       "      <td>...</td>\n",
       "      <td>...</td>\n",
       "    </tr>\n",
       "    <tr>\n",
       "      <th>21983</th>\n",
       "      <td>MFS-276</td>\n",
       "      <td>4379044</td>\n",
       "      <td>CG</td>\n",
       "      <td>C</td>\n",
       "      <td>5323.36</td>\n",
       "      <td>179</td>\n",
       "      <td>157.750</td>\n",
       "      <td>1</td>\n",
       "      <td>177.0</td>\n",
       "      <td>0.988827</td>\n",
       "      <td>...</td>\n",
       "      <td>5.18177</td>\n",
       "      <td>67.0</td>\n",
       "      <td>110.0</td>\n",
       "      <td>['C|frameshift_variant|HIGH|eccC2|Rv3894c|tran...</td>\n",
       "      <td>eccC2</td>\n",
       "      <td>frameshift_variant</td>\n",
       "      <td>c.1408delC</td>\n",
       "      <td>p.Arg470fs</td>\n",
       "      <td>NaN</td>\n",
       "      <td>0.498589</td>\n",
       "    </tr>\n",
       "    <tr>\n",
       "      <th>21984</th>\n",
       "      <td>MFS-276</td>\n",
       "      <td>4383144</td>\n",
       "      <td>C</td>\n",
       "      <td>CCGGGG</td>\n",
       "      <td>5137.17</td>\n",
       "      <td>173</td>\n",
       "      <td>344.000</td>\n",
       "      <td>0</td>\n",
       "      <td>170.0</td>\n",
       "      <td>0.982659</td>\n",
       "      <td>...</td>\n",
       "      <td>0.00000</td>\n",
       "      <td>79.0</td>\n",
       "      <td>91.0</td>\n",
       "      <td>['CCGGGG|frameshift_variant|HIGH|Rv3897c|Rv389...</td>\n",
       "      <td>Rv3897c</td>\n",
       "      <td>frameshift_variant</td>\n",
       "      <td>c.496_497insCCCCG</td>\n",
       "      <td>p.Gly166fs</td>\n",
       "      <td>NaN</td>\n",
       "      <td>0.494153</td>\n",
       "    </tr>\n",
       "    <tr>\n",
       "      <th>21985</th>\n",
       "      <td>MFS-276</td>\n",
       "      <td>4384127</td>\n",
       "      <td>A</td>\n",
       "      <td>G</td>\n",
       "      <td>8574.81</td>\n",
       "      <td>282</td>\n",
       "      <td>282.000</td>\n",
       "      <td>0</td>\n",
       "      <td>282.0</td>\n",
       "      <td>1.000000</td>\n",
       "      <td>...</td>\n",
       "      <td>0.00000</td>\n",
       "      <td>143.0</td>\n",
       "      <td>139.0</td>\n",
       "      <td>['G|intergenic_region|MODIFIER|Rv3898c-Rv3899c...</td>\n",
       "      <td>Rv3898c-Rv3899c</td>\n",
       "      <td>intergenic_region</td>\n",
       "      <td>n.4384127A&gt;G</td>\n",
       "      <td>NaN</td>\n",
       "      <td>NaN</td>\n",
       "      <td>0.469082</td>\n",
       "    </tr>\n",
       "    <tr>\n",
       "      <th>21986</th>\n",
       "      <td>MFS-276</td>\n",
       "      <td>4400660</td>\n",
       "      <td>AC</td>\n",
       "      <td>A</td>\n",
       "      <td>4257.38</td>\n",
       "      <td>141</td>\n",
       "      <td>121.571</td>\n",
       "      <td>0</td>\n",
       "      <td>141.0</td>\n",
       "      <td>1.000000</td>\n",
       "      <td>...</td>\n",
       "      <td>0.00000</td>\n",
       "      <td>86.0</td>\n",
       "      <td>55.0</td>\n",
       "      <td>['A|frameshift_variant|HIGH|sigM|Rv3911|transc...</td>\n",
       "      <td>sigM</td>\n",
       "      <td>frameshift_variant</td>\n",
       "      <td>c.478delC</td>\n",
       "      <td>p.Arg160fs</td>\n",
       "      <td>NaN</td>\n",
       "      <td>0.325555</td>\n",
       "    </tr>\n",
       "    <tr>\n",
       "      <th>21987</th>\n",
       "      <td>MFS-276</td>\n",
       "      <td>4408923</td>\n",
       "      <td>C</td>\n",
       "      <td>T</td>\n",
       "      <td>5829.68</td>\n",
       "      <td>192</td>\n",
       "      <td>192.000</td>\n",
       "      <td>0</td>\n",
       "      <td>192.0</td>\n",
       "      <td>1.000000</td>\n",
       "      <td>...</td>\n",
       "      <td>0.00000</td>\n",
       "      <td>84.0</td>\n",
       "      <td>108.0</td>\n",
       "      <td>['T|intergenic_region|MODIFIER|Rv3920c-Rv3921c...</td>\n",
       "      <td>Rv3920c-Rv3921c</td>\n",
       "      <td>intergenic_region</td>\n",
       "      <td>n.4408923C&gt;T</td>\n",
       "      <td>NaN</td>\n",
       "      <td>NaN</td>\n",
       "      <td>0.300123</td>\n",
       "    </tr>\n",
       "  </tbody>\n",
       "</table>\n",
       "<p>21988 rows × 30 columns</p>\n",
       "</div>"
      ],
      "text/plain": [
       "      SampleID      POS  REF     ALT     QUAL   DP      DPB  RO     AO  \\\n",
       "0      MFS-162    14861    G       T  8142.16  268  268.000   0  268.0   \n",
       "1      MFS-162    44768    A       G  8189.35  272  272.000   1  270.0   \n",
       "2      MFS-162    49690  GCC       G  7132.11  236  157.833   0  235.0   \n",
       "3      MFS-162    52209    C       G  9085.24  300  300.000   0  300.0   \n",
       "4      MFS-162    62049    A       G  8334.65  274  274.000   0  274.0   \n",
       "...        ...      ...  ...     ...      ...  ...      ...  ..    ...   \n",
       "21983  MFS-276  4379044   CG       C  5323.36  179  157.750   1  177.0   \n",
       "21984  MFS-276  4383144    C  CCGGGG  5137.17  173  344.000   0  170.0   \n",
       "21985  MFS-276  4384127    A       G  8574.81  282  282.000   0  282.0   \n",
       "21986  MFS-276  4400660   AC       A  4257.38  141  121.571   0  141.0   \n",
       "21987  MFS-276  4408923    C       T  5829.68  192  192.000   0  192.0   \n",
       "\n",
       "             AF  ...     RPPR    RPL    RPR  \\\n",
       "0      1.000000  ...  0.00000  111.0  157.0   \n",
       "1      0.992647  ...  5.18177  121.0  149.0   \n",
       "2      0.995763  ...  0.00000  121.0  114.0   \n",
       "3      1.000000  ...  0.00000  161.0  139.0   \n",
       "4      1.000000  ...  0.00000  129.0  145.0   \n",
       "...         ...  ...      ...    ...    ...   \n",
       "21983  0.988827  ...  5.18177   67.0  110.0   \n",
       "21984  0.982659  ...  0.00000   79.0   91.0   \n",
       "21985  1.000000  ...  0.00000  143.0  139.0   \n",
       "21986  1.000000  ...  0.00000   86.0   55.0   \n",
       "21987  1.000000  ...  0.00000   84.0  108.0   \n",
       "\n",
       "                                                     ANN             GENE  \\\n",
       "0      ['T|missense_variant|MODERATE|Rv0012|Rv0012|tr...           Rv0012   \n",
       "1      ['G|missense_variant|MODERATE|leuS|Rv0041|tran...             leuS   \n",
       "2      ['G|frameshift_variant|HIGH|Rv0045c|Rv0045c|tr...          Rv0045c   \n",
       "3      ['G|missense_variant|MODERATE|Rv0048c|Rv0048c|...          Rv0048c   \n",
       "4      ['G|missense_variant|MODERATE|dnaB|Rv0058|tran...             dnaB   \n",
       "...                                                  ...              ...   \n",
       "21983  ['C|frameshift_variant|HIGH|eccC2|Rv3894c|tran...            eccC2   \n",
       "21984  ['CCGGGG|frameshift_variant|HIGH|Rv3897c|Rv389...          Rv3897c   \n",
       "21985  ['G|intergenic_region|MODIFIER|Rv3898c-Rv3899c...  Rv3898c-Rv3899c   \n",
       "21986  ['A|frameshift_variant|HIGH|sigM|Rv3911|transc...             sigM   \n",
       "21987  ['T|intergenic_region|MODIFIER|Rv3920c-Rv3921c...  Rv3920c-Rv3921c   \n",
       "\n",
       "                   EFFECT             HGVS_C       HGVS_P  SRP_prob  SAP_prob  \n",
       "0        missense_variant           c.773G>T  p.Gly258Val       NaN  0.414901  \n",
       "1        missense_variant          c.1207A>G  p.Arg403Gly       NaN  0.485402  \n",
       "2      frameshift_variant     c.248_249delGG    p.Gly83fs       NaN  0.132267  \n",
       "3        missense_variant           c.489G>C  p.Met163Ile       NaN  0.162056  \n",
       "4        missense_variant          c.1654A>G  p.Arg552Gly       NaN  0.416600  \n",
       "...                   ...                ...          ...       ...       ...  \n",
       "21983  frameshift_variant         c.1408delC   p.Arg470fs       NaN  0.498589  \n",
       "21984  frameshift_variant  c.496_497insCCCCG   p.Gly166fs       NaN  0.494153  \n",
       "21985   intergenic_region       n.4384127A>G          NaN       NaN  0.469082  \n",
       "21986  frameshift_variant          c.478delC   p.Arg160fs       NaN  0.325555  \n",
       "21987   intergenic_region       n.4408923C>T          NaN       NaN  0.300123  \n",
       "\n",
       "[21988 rows x 30 columns]"
      ]
     },
     "execution_count": 101,
     "metadata": {},
     "output_type": "execute_result"
    }
   ],
   "source": [
    "df_phase_variants"
   ]
  },
  {
   "cell_type": "code",
   "execution_count": 98,
   "id": "1e151511-a727-49ae-8788-6e2a89b22870",
   "metadata": {
    "tags": []
   },
   "outputs": [
    {
     "ename": "AttributeError",
     "evalue": "'DataFrame' object has no attribute 'variant'",
     "output_type": "error",
     "traceback": [
      "\u001b[0;31m---------------------------------------------------------------------------\u001b[0m",
      "\u001b[0;31mAttributeError\u001b[0m                            Traceback (most recent call last)",
      "\u001b[0;32m/tmp/ipykernel_2468373/240699122.py\u001b[0m in \u001b[0;36m?\u001b[0;34m()\u001b[0m\n\u001b[1;32m      1\u001b[0m \u001b[0mvariants_found_in_most_samples\u001b[0m \u001b[0;34m=\u001b[0m \u001b[0;34m[\u001b[0m\u001b[0;34m]\u001b[0m\u001b[0;34m\u001b[0m\u001b[0;34m\u001b[0m\u001b[0m\n\u001b[1;32m      2\u001b[0m \u001b[0mvariant_thresh\u001b[0m \u001b[0;34m=\u001b[0m \u001b[0;36m0.9\u001b[0m\u001b[0;34m\u001b[0m\u001b[0;34m\u001b[0m\u001b[0m\n\u001b[1;32m      3\u001b[0m \u001b[0;34m\u001b[0m\u001b[0m\n\u001b[0;32m----> 4\u001b[0;31m \u001b[0;32mfor\u001b[0m \u001b[0mvariant\u001b[0m \u001b[0;32min\u001b[0m \u001b[0mdf_phase_variants\u001b[0m\u001b[0;34m.\u001b[0m\u001b[0mvariant\u001b[0m\u001b[0;34m.\u001b[0m\u001b[0munique\u001b[0m\u001b[0;34m(\u001b[0m\u001b[0;34m)\u001b[0m\u001b[0;34m:\u001b[0m\u001b[0;34m\u001b[0m\u001b[0;34m\u001b[0m\u001b[0m\n\u001b[0m\u001b[1;32m      5\u001b[0m \u001b[0;34m\u001b[0m\u001b[0m\n\u001b[1;32m      6\u001b[0m     \u001b[0;32mif\u001b[0m \u001b[0mdf_phase_variants\u001b[0m\u001b[0;34m.\u001b[0m\u001b[0mquery\u001b[0m\u001b[0;34m(\u001b[0m\u001b[0;34m\"variant==@variant\"\u001b[0m\u001b[0;34m)\u001b[0m\u001b[0;34m.\u001b[0m\u001b[0mSampleID\u001b[0m\u001b[0;34m.\u001b[0m\u001b[0mnunique\u001b[0m\u001b[0;34m(\u001b[0m\u001b[0;34m)\u001b[0m \u001b[0;34m/\u001b[0m \u001b[0mdf_phase_variants\u001b[0m\u001b[0;34m.\u001b[0m\u001b[0mSampleID\u001b[0m\u001b[0;34m.\u001b[0m\u001b[0mnunique\u001b[0m\u001b[0;34m(\u001b[0m\u001b[0;34m)\u001b[0m \u001b[0;34m>=\u001b[0m \u001b[0mvariant_thresh\u001b[0m\u001b[0;34m:\u001b[0m\u001b[0;34m\u001b[0m\u001b[0;34m\u001b[0m\u001b[0m\n\u001b[1;32m      7\u001b[0m         \u001b[0mvariants_found_in_most_samples\u001b[0m\u001b[0;34m.\u001b[0m\u001b[0mappend\u001b[0m\u001b[0;34m(\u001b[0m\u001b[0mvariant\u001b[0m\u001b[0;34m)\u001b[0m\u001b[0;34m\u001b[0m\u001b[0;34m\u001b[0m\u001b[0m\n",
      "\u001b[0;32m~/anaconda3/lib/python3.11/site-packages/pandas/core/generic.py\u001b[0m in \u001b[0;36m?\u001b[0;34m(self, name)\u001b[0m\n\u001b[1;32m   6200\u001b[0m             \u001b[0;32mand\u001b[0m \u001b[0mname\u001b[0m \u001b[0;32mnot\u001b[0m \u001b[0;32min\u001b[0m \u001b[0mself\u001b[0m\u001b[0;34m.\u001b[0m\u001b[0m_accessors\u001b[0m\u001b[0;34m\u001b[0m\u001b[0;34m\u001b[0m\u001b[0m\n\u001b[1;32m   6201\u001b[0m             \u001b[0;32mand\u001b[0m \u001b[0mself\u001b[0m\u001b[0;34m.\u001b[0m\u001b[0m_info_axis\u001b[0m\u001b[0;34m.\u001b[0m\u001b[0m_can_hold_identifiers_and_holds_name\u001b[0m\u001b[0;34m(\u001b[0m\u001b[0mname\u001b[0m\u001b[0;34m)\u001b[0m\u001b[0;34m\u001b[0m\u001b[0;34m\u001b[0m\u001b[0m\n\u001b[1;32m   6202\u001b[0m         ):\n\u001b[1;32m   6203\u001b[0m             \u001b[0;32mreturn\u001b[0m \u001b[0mself\u001b[0m\u001b[0;34m[\u001b[0m\u001b[0mname\u001b[0m\u001b[0;34m]\u001b[0m\u001b[0;34m\u001b[0m\u001b[0;34m\u001b[0m\u001b[0m\n\u001b[0;32m-> 6204\u001b[0;31m         \u001b[0;32mreturn\u001b[0m \u001b[0mobject\u001b[0m\u001b[0;34m.\u001b[0m\u001b[0m__getattribute__\u001b[0m\u001b[0;34m(\u001b[0m\u001b[0mself\u001b[0m\u001b[0;34m,\u001b[0m \u001b[0mname\u001b[0m\u001b[0;34m)\u001b[0m\u001b[0;34m\u001b[0m\u001b[0;34m\u001b[0m\u001b[0m\n\u001b[0m",
      "\u001b[0;31mAttributeError\u001b[0m: 'DataFrame' object has no attribute 'variant'"
     ]
    }
   ],
   "source": [
    "variants_found_in_most_samples = []\n",
    "variant_thresh = 0.9\n",
    "\n",
    "for variant in df_phase_variants.variant.unique():\n",
    "    \n",
    "    if df_phase_variants.query(\"variant==@variant\").SampleID.nunique() / df_phase_variants.SampleID.nunique() >= variant_thresh:\n",
    "        variants_found_in_most_samples.append(variant)\n",
    "        \n",
    "print(f\"{len(variants_found_in_most_samples)}/{df_phase_variants.variant.nunique()} variants are found in at least {variant_thresh*100}% of samples\")"
   ]
  },
  {
   "cell_type": "code",
   "execution_count": null,
   "id": "a3758900-4755-47ac-90ba-626a99b8b5c7",
   "metadata": {},
   "outputs": [],
   "source": []
  },
  {
   "cell_type": "code",
   "execution_count": 11,
   "id": "d2adf9e4-1312-47d4-82c2-06ab9dc10e2b",
   "metadata": {
    "tags": []
   },
   "outputs": [
    {
     "name": "stdout",
     "output_type": "stream",
     "text": [
      "9/268 variants are found in at least 90.0% of samples\n"
     ]
    }
   ],
   "source": [
    "variants_found_in_most_samples = []\n",
    "variant_thresh = 0.9\n",
    "\n",
    "for variant in df_phase_variants.variant.unique():\n",
    "    \n",
    "    if df_phase_variants.query(\"variant==@variant\").SampleID.nunique() / df_phase_variants.SampleID.nunique() >= variant_thresh:\n",
    "        variants_found_in_most_samples.append(variant)\n",
    "        \n",
    "print(f\"{len(variants_found_in_most_samples)}/{df_phase_variants.variant.nunique()} variants are found in at least {variant_thresh*100}% of samples\")"
   ]
  },
  {
   "cell_type": "markdown",
   "id": "918efe53-f2da-4c45-8a5b-1379e809152b",
   "metadata": {},
   "source": [
    "# Longitudinal Changes in Number of Fixed Variants"
   ]
  },
  {
   "cell_type": "code",
   "execution_count": null,
   "id": "036c98bc-a285-4742-b16c-fbfc4ae2ba95",
   "metadata": {
    "tags": []
   },
   "outputs": [
    {
     "name": "stdout",
     "output_type": "stream",
     "text": [
      "91603 82 144\n"
     ]
    }
   ],
   "source": [
    "df_fixed_variants = pd.read_csv(\"./results/full_genome/fixed_variants.csv\").merge(df_longitudinal_pids[['pid', 'SampleID', 'F2', 'Coll2014', 'Lineage', 'Sampling_Week', 'Paired_Sample_Num']], on='SampleID')\n",
    "\n",
    "df_fixed_variants['Lineage'] = df_fixed_variants['Lineage'].astype(str)\n",
    "\n",
    "print(len(df_fixed_variants), df_fixed_variants.pid.nunique(), df_fixed_variants.SampleID.nunique())"
   ]
  },
  {
   "cell_type": "code",
   "execution_count": 98,
   "id": "dffa6484-ac24-4636-a60c-f326ff49d1b0",
   "metadata": {
    "tags": []
   },
   "outputs": [
    {
     "data": {
      "image/png": "[encoded data removed]",
      "text/plain": [
       "<Figure size 640x480 with 1 Axes>"
      ]
     },
     "metadata": {},
     "output_type": "display_data"
    }
   ],
   "source": [
    "LinToColor_Dict = {\"1\": \"#DF83AC\",\n",
    "                   \"2\": \"#7098CB\",\n",
    "                   \"3\": \"#815D9F\",\n",
    "                   \"4\": \"#E76956\",\n",
    "                   \"Other\": \"white\"\n",
    "                   # \"5\": \"#B67548\",\n",
    "                   # \"6\": \"#6AB79E\",\n",
    "                   # \"8\": \"#E4515B\",\n",
    "                   # \"M.bovis\": \"white\",\n",
    "                  }\n",
    "\n",
    "df_fixed_variant_counts = pd.DataFrame(df_fixed_variants.query(\"Paired_Sample_Num <= 2\").groupby(['pid', 'SampleID', 'Paired_Sample_Num', 'F2'])['variant'].count().sort_values()).reset_index()\n",
    "\n",
    "# dropna to drop patients with F2 below the threshold for only one sample\n",
    "df_fixed_variant_counts = df_fixed_variant_counts.query(\"F2 <= @F2_thresh\").pivot(index='pid', columns='Paired_Sample_Num', values='variant').reset_index().dropna()\n",
    "\n",
    "# rename columns for readability\n",
    "df_fixed_variant_counts.rename(columns={1: 'Sample1', 2: 'Sample2'}, inplace=True)\n",
    "\n",
    "# add lineage back to the dataframe\n",
    "df_fixed_variant_counts = df_fixed_variant_counts.merge(df_fixed_variants[['pid', 'Lineage']].drop_duplicates(), on='pid', how='left')\n",
    "\n",
    "two_WGS_sample_scatterplot(df_fixed_variant_counts, \n",
    "                           f\"Fixed Variant Counts\", \n",
    "                           F2_thresh=None, \n",
    "                           hue_col='Lineage', \n",
    "                           color_palette=LinToColor_Dict, \n",
    "                           saveName=\"./results/figures/fixed_variants_longitudinal_unmixed.svg\"\n",
    "                          )"
   ]
  },
  {
   "cell_type": "code",
   "execution_count": 91,
   "id": "d15b9d44-cacd-442e-b8fb-c80a90870c07",
   "metadata": {
    "tags": []
   },
   "outputs": [
    {
     "data": {
      "text/plain": [
       "WilcoxonResult(statistic=10931.0, pvalue=0.22543847957706908)"
      ]
     },
     "execution_count": 91,
     "metadata": {},
     "output_type": "execute_result"
    }
   ],
   "source": [
    "st.wilcoxon(df_fixed_variant_counts['Sample1'],\n",
    "             df_fixed_variant_counts['Sample2'],\n",
    "             alternative='two-sided'\n",
    "            )"
   ]
  },
  {
   "cell_type": "code",
   "execution_count": 92,
   "id": "e6052e2e-c408-42f1-a5c2-263beb40d0af",
   "metadata": {
    "tags": []
   },
   "outputs": [
    {
     "data": {
      "text/plain": [
       "SignificanceResult(statistic=0.983204264202183, pvalue=1.1562948678852482e-206)"
      ]
     },
     "execution_count": 92,
     "metadata": {},
     "output_type": "execute_result"
    }
   ],
   "source": [
    "st.spearmanr(df_fixed_variant_counts['Sample1'], df_fixed_variant_counts['Sample2'])"
   ]
  },
  {
   "cell_type": "code",
   "execution_count": 103,
   "id": "01d354b0-5c9d-400b-ab10-f10b68e2672b",
   "metadata": {
    "tags": []
   },
   "outputs": [
    {
     "data": {
      "text/plain": [
       "Sample1    1324.0\n",
       "Sample2    1321.0\n",
       "dtype: float64"
      ]
     },
     "execution_count": 103,
     "metadata": {},
     "output_type": "execute_result"
    }
   ],
   "source": [
    "df_fixed_variant_counts[['Sample1', 'Sample2']].max()"
   ]
  },
  {
   "cell_type": "code",
   "execution_count": 106,
   "id": "cf9b32ba-f2a4-4a3c-b19f-c237cc86572c",
   "metadata": {},
   "outputs": [
    {
     "data": {
      "text/html": [
       "<div>\n",
       "<style scoped>\n",
       "    .dataframe tbody tr th:only-of-type {\n",
       "        vertical-align: middle;\n",
       "    }\n",
       "\n",
       "    .dataframe tbody tr th {\n",
       "        vertical-align: top;\n",
       "    }\n",
       "\n",
       "    .dataframe thead th {\n",
       "        text-align: right;\n",
       "    }\n",
       "</style>\n",
       "<table border=\"1\" class=\"dataframe\">\n",
       "  <thead>\n",
       "    <tr style=\"text-align: right;\">\n",
       "      <th></th>\n",
       "      <th>pid</th>\n",
       "      <th>Sample1</th>\n",
       "      <th>Sample2</th>\n",
       "      <th>Lineage</th>\n",
       "    </tr>\n",
       "  </thead>\n",
       "  <tbody>\n",
       "    <tr>\n",
       "      <th>46</th>\n",
       "      <td>T0067</td>\n",
       "      <td>1324.0</td>\n",
       "      <td>1321.0</td>\n",
       "      <td>2</td>\n",
       "    </tr>\n",
       "    <tr>\n",
       "      <th>31</th>\n",
       "      <td>T0046</td>\n",
       "      <td>1316.0</td>\n",
       "      <td>1316.0</td>\n",
       "      <td>2</td>\n",
       "    </tr>\n",
       "    <tr>\n",
       "      <th>197</th>\n",
       "      <td>T0335</td>\n",
       "      <td>1314.0</td>\n",
       "      <td>1309.0</td>\n",
       "      <td>2</td>\n",
       "    </tr>\n",
       "    <tr>\n",
       "      <th>1</th>\n",
       "      <td>T0003</td>\n",
       "      <td>1313.0</td>\n",
       "      <td>1316.0</td>\n",
       "      <td>2</td>\n",
       "    </tr>\n",
       "    <tr>\n",
       "      <th>273</th>\n",
       "      <td>T0470</td>\n",
       "      <td>1313.0</td>\n",
       "      <td>1316.0</td>\n",
       "      <td>2</td>\n",
       "    </tr>\n",
       "  </tbody>\n",
       "</table>\n",
       "</div>"
      ],
      "text/plain": [
       "       pid  Sample1  Sample2 Lineage\n",
       "46   T0067   1324.0   1321.0       2\n",
       "31   T0046   1316.0   1316.0       2\n",
       "197  T0335   1314.0   1309.0       2\n",
       "1    T0003   1313.0   1316.0       2\n",
       "273  T0470   1313.0   1316.0       2"
      ]
     },
     "execution_count": 106,
     "metadata": {},
     "output_type": "execute_result"
    }
   ],
   "source": [
    "df_fixed_variant_counts.sort_values('Sample1', ascending=False).head()"
   ]
  },
  {
   "cell_type": "markdown",
   "id": "17fb97b9-d9e1-49f4-840d-91c953a68dcb",
   "metadata": {},
   "source": [
    "# Longitudinal Changes in Unfixed Variants"
   ]
  },
  {
   "cell_type": "code",
   "execution_count": 109,
   "id": "8823d419-27e9-48fa-8ba7-48284763adbd",
   "metadata": {
    "tags": []
   },
   "outputs": [
    {
     "name": "stdout",
     "output_type": "stream",
     "text": [
      "18597 301 600\n"
     ]
    }
   ],
   "source": [
    "# df_all_unfixed_variants = []\n",
    "\n",
    "# for i, sample in enumerate(df_trust_patients.SampleID.unique()):\n",
    "    \n",
    "#     df_variants = get_unfixed_variants(f\"{out_dir}/{sample}/freebayes/{sample}.csv\", df_trust_patients)\n",
    "    \n",
    "#     df_all_unfixed_variants.append(df_variants)\n",
    "    \n",
    "#     if i % 100 == 0:\n",
    "#         print(i)\n",
    "    \n",
    "# df_all_unfixed_variants = pd.concat(df_all_unfixed_variants).reset_index(drop=True)\n",
    "\n",
    "# df_all_unfixed_variants['Lineage'] = df_all_unfixed_variants['Lineage'].astype(str)\n",
    "\n",
    "# df_all_unfixed_variants.to_csv(\"./processed_data/full_genome/unfixed_variants.csv\", index=False)\n",
    "\n",
    "df_all_unfixed_variants = pd.read_csv(\"./processed_data/full_genome/unfixed_variants.csv\").merge(df_longitudinal_pids[['SampleID', 'F2', 'Coll2014', 'Lineage', 'Sampling_Week', 'Paired_Sample_Num']], on='SampleID')\n",
    "\n",
    "df_all_unfixed_variants['Lineage'] = df_all_unfixed_variants['Lineage'].astype(str)\n",
    "\n",
    "print(len(df_all_unfixed_variants), df_all_unfixed_variants.pid.nunique(), df_all_unfixed_variants.SampleID.nunique())"
   ]
  },
  {
   "cell_type": "code",
   "execution_count": 110,
   "id": "d629279c-4795-459d-9e66-76ecaef84913",
   "metadata": {
    "tags": []
   },
   "outputs": [
    {
     "data": {
      "text/html": [
       "<div>\n",
       "<style scoped>\n",
       "    .dataframe tbody tr th:only-of-type {\n",
       "        vertical-align: middle;\n",
       "    }\n",
       "\n",
       "    .dataframe tbody tr th {\n",
       "        vertical-align: top;\n",
       "    }\n",
       "\n",
       "    .dataframe thead th {\n",
       "        text-align: right;\n",
       "    }\n",
       "</style>\n",
       "<table border=\"1\" class=\"dataframe\">\n",
       "  <thead>\n",
       "    <tr style=\"text-align: right;\">\n",
       "      <th></th>\n",
       "      <th>pid</th>\n",
       "      <th>SampleID</th>\n",
       "      <th>POS</th>\n",
       "      <th>REF</th>\n",
       "      <th>ALT</th>\n",
       "      <th>AF</th>\n",
       "      <th>SAF</th>\n",
       "      <th>SAR</th>\n",
       "      <th>SAP_prob</th>\n",
       "      <th>Phase_Variant</th>\n",
       "      <th>F2</th>\n",
       "    </tr>\n",
       "  </thead>\n",
       "  <tbody>\n",
       "    <tr>\n",
       "      <th>3983</th>\n",
       "      <td>T0111</td>\n",
       "      <td>MFS-362</td>\n",
       "      <td>850595</td>\n",
       "      <td>C</td>\n",
       "      <td>CT</td>\n",
       "      <td>0.180645</td>\n",
       "      <td>4.0</td>\n",
       "      <td>24.0</td>\n",
       "      <td>0.000395</td>\n",
       "      <td>1</td>\n",
       "      <td>0.008438</td>\n",
       "    </tr>\n",
       "    <tr>\n",
       "      <th>3991</th>\n",
       "      <td>T0111</td>\n",
       "      <td>MFS-363</td>\n",
       "      <td>850595</td>\n",
       "      <td>C</td>\n",
       "      <td>CT</td>\n",
       "      <td>0.155844</td>\n",
       "      <td>4.0</td>\n",
       "      <td>20.0</td>\n",
       "      <td>0.002414</td>\n",
       "      <td>1</td>\n",
       "      <td>0.006698</td>\n",
       "    </tr>\n",
       "    <tr>\n",
       "      <th>4177</th>\n",
       "      <td>T0116</td>\n",
       "      <td>MFS-578</td>\n",
       "      <td>381842</td>\n",
       "      <td>G</td>\n",
       "      <td>GC</td>\n",
       "      <td>0.165877</td>\n",
       "      <td>11.0</td>\n",
       "      <td>24.0</td>\n",
       "      <td>0.044716</td>\n",
       "      <td>1</td>\n",
       "      <td>0.006285</td>\n",
       "    </tr>\n",
       "    <tr>\n",
       "      <th>6278</th>\n",
       "      <td>T0187</td>\n",
       "      <td>MFS-626</td>\n",
       "      <td>1826288</td>\n",
       "      <td>GA</td>\n",
       "      <td>G</td>\n",
       "      <td>0.293333</td>\n",
       "      <td>18.0</td>\n",
       "      <td>48.0</td>\n",
       "      <td>0.000547</td>\n",
       "      <td>1</td>\n",
       "      <td>0.005495</td>\n",
       "    </tr>\n",
       "    <tr>\n",
       "      <th>10127</th>\n",
       "      <td>T0245</td>\n",
       "      <td>MFS-157</td>\n",
       "      <td>3717127</td>\n",
       "      <td>G</td>\n",
       "      <td>GC</td>\n",
       "      <td>0.655914</td>\n",
       "      <td>43.0</td>\n",
       "      <td>79.0</td>\n",
       "      <td>0.002467</td>\n",
       "      <td>1</td>\n",
       "      <td>0.008931</td>\n",
       "    </tr>\n",
       "    <tr>\n",
       "      <th>14621</th>\n",
       "      <td>T0324</td>\n",
       "      <td>MFS-388</td>\n",
       "      <td>4274157</td>\n",
       "      <td>T</td>\n",
       "      <td>TG</td>\n",
       "      <td>0.162562</td>\n",
       "      <td>23.0</td>\n",
       "      <td>10.0</td>\n",
       "      <td>0.038629</td>\n",
       "      <td>1</td>\n",
       "      <td>0.008933</td>\n",
       "    </tr>\n",
       "    <tr>\n",
       "      <th>14942</th>\n",
       "      <td>T0351</td>\n",
       "      <td>MFS-430</td>\n",
       "      <td>3010354</td>\n",
       "      <td>T</td>\n",
       "      <td>TG</td>\n",
       "      <td>0.416667</td>\n",
       "      <td>44.0</td>\n",
       "      <td>76.0</td>\n",
       "      <td>0.007014</td>\n",
       "      <td>1</td>\n",
       "      <td>0.004914</td>\n",
       "    </tr>\n",
       "    <tr>\n",
       "      <th>14984</th>\n",
       "      <td>T0355</td>\n",
       "      <td>MFS-437</td>\n",
       "      <td>854252</td>\n",
       "      <td>G</td>\n",
       "      <td>GC</td>\n",
       "      <td>0.068592</td>\n",
       "      <td>4.0</td>\n",
       "      <td>15.0</td>\n",
       "      <td>0.020705</td>\n",
       "      <td>1</td>\n",
       "      <td>0.005776</td>\n",
       "    </tr>\n",
       "    <tr>\n",
       "      <th>18386</th>\n",
       "      <td>T0459</td>\n",
       "      <td>MFS-839</td>\n",
       "      <td>4277509</td>\n",
       "      <td>G</td>\n",
       "      <td>GC</td>\n",
       "      <td>0.642691</td>\n",
       "      <td>169.0</td>\n",
       "      <td>108.0</td>\n",
       "      <td>0.000605</td>\n",
       "      <td>1</td>\n",
       "      <td>0.007430</td>\n",
       "    </tr>\n",
       "    <tr>\n",
       "      <th>18542</th>\n",
       "      <td>T0471</td>\n",
       "      <td>MFS-861</td>\n",
       "      <td>987585</td>\n",
       "      <td>A</td>\n",
       "      <td>AG</td>\n",
       "      <td>0.660550</td>\n",
       "      <td>127.0</td>\n",
       "      <td>89.0</td>\n",
       "      <td>0.017673</td>\n",
       "      <td>1</td>\n",
       "      <td>0.007856</td>\n",
       "    </tr>\n",
       "  </tbody>\n",
       "</table>\n",
       "</div>"
      ],
      "text/plain": [
       "         pid SampleID      POS REF ALT        AF    SAF    SAR  SAP_prob  \\\n",
       "3983   T0111  MFS-362   850595   C  CT  0.180645    4.0   24.0  0.000395   \n",
       "3991   T0111  MFS-363   850595   C  CT  0.155844    4.0   20.0  0.002414   \n",
       "4177   T0116  MFS-578   381842   G  GC  0.165877   11.0   24.0  0.044716   \n",
       "6278   T0187  MFS-626  1826288  GA   G  0.293333   18.0   48.0  0.000547   \n",
       "10127  T0245  MFS-157  3717127   G  GC  0.655914   43.0   79.0  0.002467   \n",
       "14621  T0324  MFS-388  4274157   T  TG  0.162562   23.0   10.0  0.038629   \n",
       "14942  T0351  MFS-430  3010354   T  TG  0.416667   44.0   76.0  0.007014   \n",
       "14984  T0355  MFS-437   854252   G  GC  0.068592    4.0   15.0  0.020705   \n",
       "18386  T0459  MFS-839  4277509   G  GC  0.642691  169.0  108.0  0.000605   \n",
       "18542  T0471  MFS-861   987585   A  AG  0.660550  127.0   89.0  0.017673   \n",
       "\n",
       "       Phase_Variant        F2  \n",
       "3983               1  0.008438  \n",
       "3991               1  0.006698  \n",
       "4177               1  0.006285  \n",
       "6278               1  0.005495  \n",
       "10127              1  0.008931  \n",
       "14621              1  0.008933  \n",
       "14942              1  0.004914  \n",
       "14984              1  0.005776  \n",
       "18386              1  0.007430  \n",
       "18542              1  0.007856  "
      ]
     },
     "execution_count": 110,
     "metadata": {},
     "output_type": "execute_result"
    }
   ],
   "source": [
    "df_all_unfixed_variants.query(\"SAP_prob <= 0.05\")[['pid', 'SampleID', 'POS', 'REF', 'ALT', 'AF', 'SAF', 'SAR', 'SAP_prob', 'Phase_Variant', 'F2']].query(\"Phase_Variant==1 & F2 <= 0.03\")"
   ]
  },
  {
   "cell_type": "markdown",
   "id": "606a569c-a18c-46d8-b97b-fa0878327491",
   "metadata": {},
   "source": [
    "# Compute Unfixed:Fixed SNP Ratio"
   ]
  },
  {
   "cell_type": "code",
   "execution_count": 112,
   "id": "4609028b-e883-4332-970f-64dbc68af21b",
   "metadata": {
    "tags": []
   },
   "outputs": [
    {
     "data": {
      "image/png": "[encoded data removed]",
      "text/plain": [
       "<Figure size 640x480 with 1 Axes>"
      ]
     },
     "metadata": {},
     "output_type": "display_data"
    }
   ],
   "source": [
    "LinToColor_Dict = {\"1\": \"#DF83AC\",\n",
    "                   \"2\": \"#7098CB\",\n",
    "                   \"3\": \"#815D9F\",\n",
    "                   \"4\": \"#E76956\",\n",
    "                   \"Other\": \"white\"\n",
    "                   # \"5\": \"#B67548\",\n",
    "                   # \"6\": \"#6AB79E\",\n",
    "                   # \"8\": \"#E4515B\",\n",
    "                   # \"M.bovis\": \"white\",\n",
    "                  }\n",
    "\n",
    "df_unfixed_variant_counts = pd.DataFrame(df_all_unfixed_variants.query(\"Paired_Sample_Num <= 2\").groupby(['pid', 'SampleID', 'Paired_Sample_Num', 'F2', 'Lineage'])['variant'].count().sort_values()).reset_index()\n",
    "\n",
    "# dropna to drop patients with F2 below the threshold for only one sample\n",
    "df_unfixed_variant_counts = df_unfixed_variant_counts.query(\"F2 <= @F2_thresh\").pivot(index='pid', columns='Paired_Sample_Num', values='variant').reset_index().dropna()\n",
    "\n",
    "# rename columns for readability\n",
    "df_unfixed_variant_counts.rename(columns={1: 'Sample1', 2: 'Sample2'}, inplace=True)\n",
    "\n",
    "# add lineage back to the dataframe\n",
    "df_unfixed_variant_counts = df_unfixed_variant_counts.merge(df_all_unfixed_variants[['pid', 'Lineage']].drop_duplicates(), on='pid', how='left')\n",
    "\n",
    "# add fixed counts in order to compute the unfixed:fixed ratio\n",
    "df_unfixed_variant_counts = df_unfixed_variant_counts.merge(df_fixed_variant_counts.rename(columns={'Sample1': 'Sample1_Fixed', 'Sample2': 'Sample2_Fixed'}), how='outer', on=['pid', 'Lineage'])\n",
    "\n",
    "# fill empty unfixed variant counts with 0\n",
    "df_unfixed_variant_counts[['Sample1', 'Sample2']] = df_unfixed_variant_counts[['Sample1', 'Sample2']].fillna(0).astype(int)\n",
    "\n",
    "# compute ratio\n",
    "df_unfixed_variant_counts['Sample1_Unfixed_Fixed_Ratio'] = df_unfixed_variant_counts['Sample1'] / df_unfixed_variant_counts['Sample1_Fixed']\n",
    "df_unfixed_variant_counts['Sample2_Unfixed_Fixed_Ratio'] = df_unfixed_variant_counts['Sample2'] / df_unfixed_variant_counts['Sample2_Fixed']\n",
    "\n",
    "two_WGS_sample_scatterplot(df_unfixed_variant_counts, \n",
    "                           f\"Unfixed:Fixed Variant Ratio\", \n",
    "                           x_col='Sample1_Unfixed_Fixed_Ratio',\n",
    "                           y_col='Sample2_Unfixed_Fixed_Ratio',\n",
    "                           F2_thresh=None, \n",
    "                           hue_col='Lineage', \n",
    "                           color_palette=LinToColor_Dict, \n",
    "                           saveName=\"./results/figures/unfixed_fixed_ratio_unmixed.svg\"\n",
    "                          )\n"
   ]
  },
  {
   "cell_type": "code",
   "execution_count": 113,
   "id": "35b02872-2b0a-4995-8491-7cad430df0ed",
   "metadata": {
    "tags": []
   },
   "outputs": [
    {
     "data": {
      "text/plain": [
       "WilcoxonResult(statistic=16023.0, pvalue=0.2796128944960482)"
      ]
     },
     "execution_count": 113,
     "metadata": {},
     "output_type": "execute_result"
    }
   ],
   "source": [
    "st.wilcoxon(df_unfixed_variant_counts['Sample1_Unfixed_Fixed_Ratio'],\n",
    "            df_unfixed_variant_counts['Sample2_Unfixed_Fixed_Ratio'],\n",
    "            alternative='two-sided'\n",
    "           )"
   ]
  },
  {
   "cell_type": "code",
   "execution_count": 114,
   "id": "1f8e76c3-6e93-4fd3-b912-9c7728f506a1",
   "metadata": {
    "tags": []
   },
   "outputs": [
    {
     "data": {
      "text/plain": [
       "SignificanceResult(statistic=0.5515492635631674, pvalue=1.314486905803693e-23)"
      ]
     },
     "execution_count": 114,
     "metadata": {},
     "output_type": "execute_result"
    }
   ],
   "source": [
    "st.spearmanr(df_unfixed_variant_counts['Sample1_Unfixed_Fixed_Ratio'],\n",
    "            df_unfixed_variant_counts['Sample2_Unfixed_Fixed_Ratio'],\n",
    "           )"
   ]
  },
  {
   "cell_type": "markdown",
   "id": "ed1294f6-85ab-4498-8bbf-f4269d0d5c7d",
   "metadata": {},
   "source": [
    "# Total Number of Unfixed Variants by F2"
   ]
  },
  {
   "cell_type": "code",
   "execution_count": 115,
   "id": "92a682b1-2a56-4073-84fd-056f5a7af10e",
   "metadata": {},
   "outputs": [],
   "source": [
    "df_unfixed_long = pd.DataFrame(df_all_unfixed_variants.groupby(['pid', 'SampleID', 'Paired_Sample_Num', 'F2', 'Lineage'])['variant'].count().sort_values()).reset_index()\n",
    "df_fixed_long = pd.DataFrame(df_fixed_variants.groupby(['pid', 'SampleID', 'Paired_Sample_Num', 'F2', 'Lineage'])['variant'].count().sort_values()).reset_index()\n",
    "\n",
    "df_unfixed_long = df_unfixed_long.merge(df_fixed_long[['pid', 'SampleID']], how='right')\n",
    "df_unfixed_long['variant'] = df_unfixed_long['variant'].fillna(0).astype(int)\n",
    "\n",
    "df_unfixed_long['high_F2'] = (df_unfixed_long['F2'] > 0.03).astype(int)"
   ]
  },
  {
   "cell_type": "code",
   "execution_count": 102,
   "id": "8d285577-9348-4ca8-bdb0-b060709d8f85",
   "metadata": {
    "tags": []
   },
   "outputs": [
    {
     "data": {
      "image/png": "[encoded data removed]",
      "text/plain": [
       "<Figure size 640x480 with 1 Axes>"
      ]
     },
     "metadata": {},
     "output_type": "display_data"
    }
   ],
   "source": [
    "sns.ecdfplot(data=df_unfixed_long,\n",
    "             x='variant',\n",
    "             hue='high_F2',\n",
    "             # multiple='dodge',\n",
    "             # common_norm=False,\n",
    "             # stat='probability'\n",
    "            )\n",
    "\n",
    "plt.xscale('log')\n",
    "sns.despine()\n",
    "plt.show()"
   ]
  },
  {
   "cell_type": "code",
   "execution_count": 116,
   "id": "46917d96-807d-401f-88d4-5fae80714573",
   "metadata": {
    "tags": []
   },
   "outputs": [
    {
     "data": {
      "image/png": "[encoded data removed]",
      "text/plain": [
       "<Figure size 640x480 with 1 Axes>"
      ]
     },
     "metadata": {},
     "output_type": "display_data"
    }
   ],
   "source": [
    "sns.ecdfplot(data=df_unfixed_long,\n",
    "             x='variant',\n",
    "             hue='high_F2',\n",
    "             # multiple='dodge',\n",
    "             # common_norm=False,\n",
    "             # stat='probability'\n",
    "            )\n",
    "\n",
    "plt.xscale('log')\n",
    "sns.despine()\n",
    "plt.show()"
   ]
  },
  {
   "cell_type": "code",
   "execution_count": null,
   "id": "88f43239-177e-41b7-bf2c-5c63ae4cf3a6",
   "metadata": {},
   "outputs": [],
   "source": []
  },
  {
   "cell_type": "markdown",
   "id": "8f94a348-9d74-4daf-bc7e-914984ed7329",
   "metadata": {},
   "source": [
    "# Plot Unfixed:Fixed Variant Ratio vs. F2 to see if most of the unfixed:fixed variant ratios are explained by F2"
   ]
  },
  {
   "cell_type": "code",
   "execution_count": 117,
   "id": "3d47f679-686e-48d9-82c0-4df724950289",
   "metadata": {
    "tags": []
   },
   "outputs": [],
   "source": [
    "df_unfixed_variant_counts = pd.DataFrame(df_all_unfixed_variants.groupby(['pid', 'SampleID', 'Paired_Sample_Num', 'F2', 'Lineage'])['variant'].count().sort_values()).reset_index()\n",
    "df_fixed_variant_counts = pd.DataFrame(df_fixed_variants.groupby(['pid', 'SampleID', 'Paired_Sample_Num', 'F2', 'Lineage'])['variant'].count().sort_values()).reset_index()\n",
    "\n",
    "df_combined = df_fixed_variant_counts.rename(columns={'variant': 'count_fixed'}).merge(df_unfixed_variant_counts[['pid', 'SampleID', 'variant']].rename(columns={'variant': 'count_unfixed'}), how='outer', on=['pid', 'SampleID'])\n",
    "df_combined['count_unfixed'] = df_combined['count_unfixed'].fillna(0).astype(int)\n",
    "\n",
    "df_combined['unfixed_fixed_ratio'] = df_combined['count_unfixed'] / df_combined['count_fixed']"
   ]
  },
  {
   "cell_type": "code",
   "execution_count": 126,
   "id": "32cee8b4-5993-41d8-9ed1-7bd6c56be631",
   "metadata": {
    "tags": []
   },
   "outputs": [
    {
     "data": {
      "image/png": "[encoded data removed]",
      "text/plain": [
       "<Figure size 640x480 with 1 Axes>"
      ]
     },
     "metadata": {},
     "output_type": "display_data"
    }
   ],
   "source": [
    "LinToColor_Dict = {\"1\": \"#DF83AC\",\n",
    "                   \"2\": \"#7098CB\",\n",
    "                   \"3\": \"#815D9F\",\n",
    "                   \"4\": \"#E76956\",\n",
    "                   \"2,3\": \"darkgreen\",\n",
    "                   \"2,4\": \"black\"\n",
    "                  }\n",
    "\n",
    "sns.scatterplot(data=df_combined,\n",
    "                x='F2',\n",
    "                y='unfixed_fixed_ratio',\n",
    "                hue='Lineage',\n",
    "                hue_order=np.sort(df_combined['Lineage']),\n",
    "                palette=LinToColor_Dict\n",
    "               )\n",
    "\n",
    "plt.axhline(y=1, linestyle='--', color='black', zorder=0, linewidth=0.75)\n",
    "\n",
    "plt.xscale('log')\n",
    "plt.yscale('log')\n",
    "\n",
    "plt.ylabel('Unfixed:Fixed Variant Ratio')\n",
    "plt.xlabel('F2 Metric')\n",
    "\n",
    "plt.title(f\"Unfixed:Fixed Variant Ratio vs. F2 for {df_combined.SampleID.nunique()} WGS samples\")\n",
    "\n",
    "sns.despine()\n",
    "plt.savefig(\"./results/figures/unfixed_fixed_ratio_vs_F2.svg\")"
   ]
  },
  {
   "cell_type": "code",
   "execution_count": 129,
   "id": "ac424e85-b012-47f1-8554-82fe538a1907",
   "metadata": {
    "tags": []
   },
   "outputs": [
    {
     "data": {
      "text/plain": [
       "SignificanceResult(statistic=0.8302274014313112, pvalue=1.546447724985225e-07)"
      ]
     },
     "execution_count": 129,
     "metadata": {},
     "output_type": "execute_result"
    }
   ],
   "source": [
    "st.spearmanr(df_combined.query(\"F2 > 0.03\")['F2'], df_combined.query(\"F2 > 0.03\")['unfixed_fixed_ratio'])"
   ]
  },
  {
   "cell_type": "code",
   "execution_count": 130,
   "id": "aa19ab66-ea17-4b8c-8cc0-10b955b07a69",
   "metadata": {
    "tags": []
   },
   "outputs": [
    {
     "data": {
      "text/plain": [
       "PearsonRResult(statistic=0.8894332720848167, pvalue=1.2398179001187487e-09)"
      ]
     },
     "execution_count": 130,
     "metadata": {},
     "output_type": "execute_result"
    }
   ],
   "source": [
    "st.pearsonr(np.log(df_combined.query(\"F2 > 0.03\")['F2']), np.log(df_combined.query(\"F2 > 0.03\")['unfixed_fixed_ratio']))"
   ]
  },
  {
   "cell_type": "code",
   "execution_count": 131,
   "id": "c14539f8-2e56-4647-ac4f-264e719d49bb",
   "metadata": {
    "tags": []
   },
   "outputs": [
    {
     "data": {
      "text/plain": [
       "26"
      ]
     },
     "execution_count": 131,
     "metadata": {},
     "output_type": "execute_result"
    }
   ],
   "source": [
    "len(df_combined.query(\"F2 > 0.03\"))"
   ]
  },
  {
   "cell_type": "markdown",
   "id": "f50e348d-cb58-41fa-94c7-632d3c7f6c34",
   "metadata": {},
   "source": [
    "# Correlate F2 Score with Disease Burden"
   ]
  },
  {
   "cell_type": "code",
   "execution_count": 139,
   "id": "4c4c3986-e6b3-41c4-a130-229363d467f9",
   "metadata": {
    "tags": []
   },
   "outputs": [
    {
     "name": "stdout",
     "output_type": "stream",
     "text": [
      "82 patients share a household with another patient, accounting for 32 households\n",
      "402 unique households across 452 patients\n",
      "418 patients with any WGS samples\n",
      "418 patients with uncontaminated WGS samples\n",
      "3 patients: ['T0137' 'T0395' 'T0402'] have multiple sequences at the same timepoint\n",
      "Removing 1 patients: ['T0402'] because there are multiple WGS samples at the same timepoint with different lineages\n",
      "743 patients have MICs for RIF\n",
      "743 patients have MICs for INH\n",
      "743 patients have MICs for EMB\n",
      "533 patients have MICs for PZA\n",
      "416 patients have measured MICs\n",
      "\n",
      "Found predicted RIF MICs for 417 pids\n",
      "Found predicted INH MICs for 417 pids\n",
      "Found predicted EMB MICs for 417 pids\n",
      "Found predicted PZA MICs for 417 pids\n",
      "417 patients have predicted MICs\n",
      "73 patients share a household with another patient, accounting for 31 households\n",
      "375 unique households across 417 patients\n",
      "386/417 patients with valid TCC, WGS, and MICs\n"
     ]
    }
   ],
   "source": []
  },
  {
   "cell_type": "code",
   "execution_count": 140,
   "id": "8de22d25-be9a-491b-bb59-1dfe897b42ac",
   "metadata": {
    "tags": []
   },
   "outputs": [
    {
     "data": {
      "text/plain": [
       "301"
      ]
     },
     "execution_count": 140,
     "metadata": {},
     "output_type": "execute_result"
    }
   ],
   "source": [
    "df_trust_patients.query(\"pid in @df_longitudinal_pids.pid\").pid.nunique()"
   ]
  },
  {
   "cell_type": "code",
   "execution_count": 134,
   "id": "9790eef1-4db7-477f-aa79-52c4368024b0",
   "metadata": {
    "tags": []
   },
   "outputs": [
    {
     "name": "stdout",
     "output_type": "stream",
     "text": [
      "386 pids for the TCC analysis\n",
      "404 pids with baseline TTPs within the first 5 weeks\n"
     ]
    }
   ],
   "source": [
    "df_TTP_smear, df_TCC, df_combined_culture_results = get_combined_culture_results(df_trust_patients)\n",
    "print(f\"{df_TCC.pid.nunique()} pids for the TCC analysis\")\n",
    "print(f\"{df_TTP_smear.dropna(subset='culture_sample_num').query('culture_sample_num <= 5').pid.nunique()} pids with baseline TTPs within the first 5 weeks\")"
   ]
  },
  {
   "cell_type": "code",
   "execution_count": 157,
   "id": "534e77e5-f50b-4995-b12f-d6282202b7c2",
   "metadata": {
    "tags": []
   },
   "outputs": [],
   "source": [
    "df_TTP_smear = df_TTP_smear.merge(df_longitudinal_pids, how='right')"
   ]
  },
  {
   "cell_type": "code",
   "execution_count": 161,
   "id": "a57aabf4-55e8-4222-b833-566d89591afd",
   "metadata": {
    "tags": []
   },
   "outputs": [
    {
     "data": {
      "image/png": "[encoded data removed]",
      "text/plain": [
       "<Figure size 640x480 with 1 Axes>"
      ]
     },
     "metadata": {},
     "output_type": "display_data"
    }
   ],
   "source": [
    "sns.scatterplot(data=df_TTP_smear,\n",
    "                x='TTP',\n",
    "                y='F2'\n",
    "               )\n",
    "\n",
    "plt.xscale('log')\n",
    "plt.yscale('log')\n",
    "\n",
    "sns.despine()\n",
    "plt.show()"
   ]
  },
  {
   "cell_type": "code",
   "execution_count": 163,
   "id": "da2339cc-e5de-4f05-adcd-5752f68f09dc",
   "metadata": {
    "tags": []
   },
   "outputs": [
    {
     "data": {
      "text/plain": [
       "SignificanceResult(statistic=-0.018431810170293467, pvalue=0.6517477177537888)"
      ]
     },
     "execution_count": 163,
     "metadata": {},
     "output_type": "execute_result"
    }
   ],
   "source": [
    "st.spearmanr(df_TTP_smear['F2'], df_TTP_smear['TTP'])"
   ]
  },
  {
   "cell_type": "code",
   "execution_count": 165,
   "id": "90832280-5aea-4f74-ab5a-fbbca1e9e0b5",
   "metadata": {
    "tags": []
   },
   "outputs": [
    {
     "data": {
      "text/plain": [
       "smear_grade\n",
       "0.0    0.016297\n",
       "1.0    0.021562\n",
       "2.0    0.017413\n",
       "3.0    0.015668\n",
       "4.0    0.019680\n",
       "Name: F2, dtype: float64"
      ]
     },
     "execution_count": 165,
     "metadata": {},
     "output_type": "execute_result"
    }
   ],
   "source": [
    "df_TTP_smear.groupby('smear_grade')['F2'].mean()"
   ]
  },
  {
   "cell_type": "code",
   "execution_count": null,
   "id": "599588b1-8180-41e6-88ea-6a665e45bff6",
   "metadata": {},
   "outputs": [],
   "source": []
  }
 ],
 "metadata": {
  "kernelspec": {
   "display_name": "Python 3 (ipykernel)",
   "language": "python",
   "name": "python3"
  },
  "language_info": {
   "codemirror_mode": {
    "name": "ipython",
    "version": 3
   },
   "file_extension": ".py",
   "mimetype": "text/x-python",
   "name": "python",
   "nbconvert_exporter": "python",
   "pygments_lexer": "ipython3",
   "version": "3.11.5"
  }
 },
 "nbformat": 4,
 "nbformat_minor": 5
}
